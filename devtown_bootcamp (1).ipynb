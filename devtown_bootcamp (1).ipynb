{
  "nbformat": 4,
  "nbformat_minor": 0,
  "metadata": {
    "colab": {
      "provenance": []
    },
    "kernelspec": {
      "name": "python3",
      "display_name": "Python 3"
    },
    "language_info": {
      "name": "python"
    }
  },
  "cells": [
    {
      "cell_type": "code",
      "source": [
        "import random\n",
        "name = input(\"What is your name? \")\n",
        "print(\"Good Luck ! \", name)\n",
        "words = ['happy', 'aeroplane', 'india', 'programming',\n",
        "         'python', 'help', 'player', 'defense',\n",
        "         'school', 'water', 'dhoni', 'cricket']\n",
        "word = random.choice(words)\n",
        "print(\"Guess the characters\")\n",
        "guesses = ''\n",
        "turns = 12\n",
        "while turns > 0:\n",
        "    failed = 0\n",
        "    for char in word:\n",
        "        if char in guesses:\n",
        "            print(char, end=\" \")\n",
        "        else:\n",
        "            print(\"_\")\n",
        "            failed += 1\n",
        "    if failed == 0:\n",
        "        print(\"You Win\")\n",
        "        print(\"The word is: \", word)\n",
        "        break\n",
        "    print()\n",
        "    guess = input(\"guess a character:\")\n",
        "    guesses += guess\n",
        "    if guess not in word:\n",
        "        turns -= 1\n",
        "        print(\"Wrong\")\n",
        "        print(\"You have\", + turns, 'more guesses')\n",
        "        if turns == 0:\n",
        "            print(\"You Loose\")\n"
      ],
      "metadata": {
        "id": "R9RqNaVsWlPy"
      },
      "execution_count": null,
      "outputs": []
    }
  ]
}